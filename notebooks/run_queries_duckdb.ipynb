{
 "cells": [
  {
   "cell_type": "markdown",
   "id": "803fe18e",
   "metadata": {},
   "source": [
    "# 🧠 Run SQL Challenges with DuckDB\n",
    "\n",
    "This notebook loads the CSV datasets and runs each SQL challenge using DuckDB — all in one place.\n"
   ]
  },
  {
   "cell_type": "code",
   "execution_count": 9,
   "id": "728855ee",
   "metadata": {},
   "outputs": [],
   "source": [
    "# pip install duckdb\n",
    "\n",
    "import duckdb\n",
    "con = duckdb.connect()"
   ]
  },
  {
   "cell_type": "code",
   "execution_count": 10,
   "id": "34f98b64",
   "metadata": {},
   "outputs": [
    {
     "data": {
      "text/plain": [
       "<duckdb.duckdb.DuckDBPyConnection at 0x7c423cf1ed30>"
      ]
     },
     "execution_count": 10,
     "metadata": {},
     "output_type": "execute_result"
    }
   ],
   "source": [
    "# Load all CSVs as tables\n",
    "# Load all CSVs as tables using read_csv_auto()\n",
    "con.execute(\"CREATE TABLE customers AS SELECT * FROM read_csv_auto('../datasets/customers.csv');\")\n",
    "con.execute(\"CREATE TABLE orders AS SELECT * FROM read_csv_auto('../datasets/orders.csv');\")\n",
    "con.execute(\"CREATE TABLE products AS SELECT * FROM read_csv_auto('../datasets/products.csv');\")"
   ]
  },
  {
   "cell_type": "markdown",
   "id": "2fbf26b3",
   "metadata": {},
   "source": [
    "## 🧩 Challenge 01: Top Customers by Revenue\n",
    "\n",
    "This query identifies the top 5 customers based on total revenue generated"
   ]
  },
  {
   "cell_type": "code",
   "execution_count": 11,
   "id": "320cecfc",
   "metadata": {},
   "outputs": [
    {
     "data": {
      "text/html": [
       "<div>\n",
       "<style scoped>\n",
       "    .dataframe tbody tr th:only-of-type {\n",
       "        vertical-align: middle;\n",
       "    }\n",
       "\n",
       "    .dataframe tbody tr th {\n",
       "        vertical-align: top;\n",
       "    }\n",
       "\n",
       "    .dataframe thead th {\n",
       "        text-align: right;\n",
       "    }\n",
       "</style>\n",
       "<table border=\"1\" class=\"dataframe\">\n",
       "  <thead>\n",
       "    <tr style=\"text-align: right;\">\n",
       "      <th></th>\n",
       "      <th>customer_id</th>\n",
       "      <th>total_orders</th>\n",
       "      <th>total_revenue</th>\n",
       "    </tr>\n",
       "  </thead>\n",
       "  <tbody>\n",
       "    <tr>\n",
       "      <th>0</th>\n",
       "      <td>1</td>\n",
       "      <td>3</td>\n",
       "      <td>3200.0</td>\n",
       "    </tr>\n",
       "    <tr>\n",
       "      <th>1</th>\n",
       "      <td>3</td>\n",
       "      <td>3</td>\n",
       "      <td>2150.0</td>\n",
       "    </tr>\n",
       "    <tr>\n",
       "      <th>2</th>\n",
       "      <td>5</td>\n",
       "      <td>1</td>\n",
       "      <td>800.0</td>\n",
       "    </tr>\n",
       "    <tr>\n",
       "      <th>3</th>\n",
       "      <td>2</td>\n",
       "      <td>2</td>\n",
       "      <td>500.0</td>\n",
       "    </tr>\n",
       "    <tr>\n",
       "      <th>4</th>\n",
       "      <td>4</td>\n",
       "      <td>1</td>\n",
       "      <td>200.0</td>\n",
       "    </tr>\n",
       "  </tbody>\n",
       "</table>\n",
       "</div>"
      ],
      "text/plain": [
       "   customer_id  total_orders  total_revenue\n",
       "0            1             3         3200.0\n",
       "1            3             3         2150.0\n",
       "2            5             1          800.0\n",
       "3            2             2          500.0\n",
       "4            4             1          200.0"
      ]
     },
     "execution_count": 11,
     "metadata": {},
     "output_type": "execute_result"
    }
   ],
   "source": [
    "con.sql(\"\"\"\n",
    "    SELECT\n",
    "        customer_id,\n",
    "        COUNT(order_id) AS total_orders,\n",
    "        SUM(order_amount) AS total_revenue\n",
    "    FROM orders\n",
    "    GROUP BY customer_id\n",
    "    ORDER BY total_revenue DESC\n",
    "    LIMIT 5\n",
    "\"\"\").df()"
   ]
  },
  {
   "cell_type": "markdown",
   "id": "fff58008",
   "metadata": {},
   "source": [
    "## 📈 Challenge 02: Monthly Revenue and MoM Growth\n",
    "\n",
    "This query calculates total revenue per month and computes the month-over-month (MoM) percentage change."
   ]
  },
  {
   "cell_type": "code",
   "execution_count": 12,
   "id": "f40e2712",
   "metadata": {},
   "outputs": [
    {
     "data": {
      "text/html": [
       "<div>\n",
       "<style scoped>\n",
       "    .dataframe tbody tr th:only-of-type {\n",
       "        vertical-align: middle;\n",
       "    }\n",
       "\n",
       "    .dataframe tbody tr th {\n",
       "        vertical-align: top;\n",
       "    }\n",
       "\n",
       "    .dataframe thead th {\n",
       "        text-align: right;\n",
       "    }\n",
       "</style>\n",
       "<table border=\"1\" class=\"dataframe\">\n",
       "  <thead>\n",
       "    <tr style=\"text-align: right;\">\n",
       "      <th></th>\n",
       "      <th>month</th>\n",
       "      <th>total_revenue</th>\n",
       "      <th>mom_growth</th>\n",
       "    </tr>\n",
       "  </thead>\n",
       "  <tbody>\n",
       "    <tr>\n",
       "      <th>0</th>\n",
       "      <td>2024-01-01</td>\n",
       "      <td>1200.0</td>\n",
       "      <td>NaN</td>\n",
       "    </tr>\n",
       "    <tr>\n",
       "      <th>1</th>\n",
       "      <td>2024-02-01</td>\n",
       "      <td>1100.0</td>\n",
       "      <td>-8.33</td>\n",
       "    </tr>\n",
       "    <tr>\n",
       "      <th>2</th>\n",
       "      <td>2024-03-01</td>\n",
       "      <td>1350.0</td>\n",
       "      <td>22.73</td>\n",
       "    </tr>\n",
       "    <tr>\n",
       "      <th>3</th>\n",
       "      <td>2024-04-01</td>\n",
       "      <td>1000.0</td>\n",
       "      <td>-25.93</td>\n",
       "    </tr>\n",
       "    <tr>\n",
       "      <th>4</th>\n",
       "      <td>2024-05-01</td>\n",
       "      <td>200.0</td>\n",
       "      <td>-80.00</td>\n",
       "    </tr>\n",
       "    <tr>\n",
       "      <th>5</th>\n",
       "      <td>2024-06-01</td>\n",
       "      <td>1200.0</td>\n",
       "      <td>500.00</td>\n",
       "    </tr>\n",
       "    <tr>\n",
       "      <th>6</th>\n",
       "      <td>2024-07-01</td>\n",
       "      <td>800.0</td>\n",
       "      <td>-33.33</td>\n",
       "    </tr>\n",
       "  </tbody>\n",
       "</table>\n",
       "</div>"
      ],
      "text/plain": [
       "       month  total_revenue  mom_growth\n",
       "0 2024-01-01         1200.0         NaN\n",
       "1 2024-02-01         1100.0       -8.33\n",
       "2 2024-03-01         1350.0       22.73\n",
       "3 2024-04-01         1000.0      -25.93\n",
       "4 2024-05-01          200.0      -80.00\n",
       "5 2024-06-01         1200.0      500.00\n",
       "6 2024-07-01          800.0      -33.33"
      ]
     },
     "execution_count": 12,
     "metadata": {},
     "output_type": "execute_result"
    }
   ],
   "source": [
    "con.sql(\"\"\"\n",
    "WITH monthly_revenue AS (\n",
    "    SELECT \n",
    "        DATE_TRUNC('month', order_date) AS month,\n",
    "        SUM(order_amount) AS total_revenue\n",
    "    FROM orders\n",
    "    GROUP BY month\n",
    "),\n",
    "revenue_with_growth AS (\n",
    "    SELECT \n",
    "        month,\n",
    "        total_revenue,\n",
    "        ROUND(\n",
    "            (total_revenue - LAG(total_revenue) OVER (ORDER BY month)) \n",
    "            / NULLIF(LAG(total_revenue) OVER (ORDER BY month), 0) * 100,\n",
    "        2) AS mom_growth\n",
    "    FROM monthly_revenue\n",
    ")\n",
    "SELECT * FROM revenue_with_growth\n",
    "\"\"\").df()"
   ]
  }
 ],
 "metadata": {
  "kernelspec": {
   "display_name": "Python 3",
   "language": "python",
   "name": "python3"
  },
  "language_info": {
   "codemirror_mode": {
    "name": "ipython",
    "version": 3
   },
   "file_extension": ".py",
   "mimetype": "text/x-python",
   "name": "python",
   "nbconvert_exporter": "python",
   "pygments_lexer": "ipython3",
   "version": "3.12.1"
  }
 },
 "nbformat": 4,
 "nbformat_minor": 5
}
